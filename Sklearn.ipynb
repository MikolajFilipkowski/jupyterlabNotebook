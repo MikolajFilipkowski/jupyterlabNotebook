{
 "cells": [
  {
   "cell_type": "code",
   "execution_count": 1,
   "id": "a0fcb868-a933-4784-b8b7-26bffb4f2303",
   "metadata": {},
   "outputs": [
    {
     "name": "stdout",
     "output_type": "stream",
     "text": [
      "Accuracy: 1.0\n",
      "Predicted class: [0]\n"
     ]
    }
   ],
   "source": [
    "from sklearn.datasets import load_iris\n",
    "from sklearn.linear_model import LogisticRegression\n",
    "from sklearn.model_selection import train_test_split\n",
    "\n",
    "# Wczytanie danych\n",
    "iris = load_iris()\n",
    "X = iris.data\n",
    "y = iris.target\n",
    "\n",
    "# Podział danych na zbiór treningowy i testowy\n",
    "X_train, X_test, y_train, y_test = train_test_split(X, y, test_size=0.3, random_state=42)\n",
    "\n",
    "# Tworzenie modelu regresji logistycznej\n",
    "model = LogisticRegression()\n",
    "\n",
    "# Trenowanie modelu na danych treningowych\n",
    "model.fit(X_train, y_train)\n",
    "\n",
    "# Ocena modelu na danych testowych\n",
    "accuracy = model.score(X_test, y_test)\n",
    "print(\"Accuracy:\", accuracy)\n",
    "\n",
    "# Przewidywanie dla nowych danych\n",
    "new_data = [[3, 5, 4, 2]]\n",
    "predicted_class = model.predict(new_data)\n",
    "print(\"Predicted class:\", predicted_class)"
   ]
  },
  {
   "cell_type": "code",
   "execution_count": null,
   "id": "f9a3afce-37a3-46fc-860c-6062daf9da63",
   "metadata": {},
   "outputs": [],
   "source": []
  }
 ],
 "metadata": {
  "kernelspec": {
   "display_name": "venv",
   "language": "python",
   "name": "python3"
  },
  "language_info": {
   "codemirror_mode": {
    "name": "ipython",
    "version": 3
   },
   "file_extension": ".py",
   "mimetype": "text/x-python",
   "name": "python",
   "nbconvert_exporter": "python",
   "pygments_lexer": "ipython3",
   "version": "3.11.1"
  },
  "vscode": {
   "interpreter": {
    "hash": "9c7c334a751ed96853fca9492456c7ac71d54b6245bbaabbd6824949082efde7"
   }
  }
 },
 "nbformat": 4,
 "nbformat_minor": 5
}
